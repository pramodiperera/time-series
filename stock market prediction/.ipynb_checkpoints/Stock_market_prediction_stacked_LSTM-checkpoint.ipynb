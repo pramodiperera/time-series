{
 "cells": [
  {
   "cell_type": "markdown",
   "id": "39996127",
   "metadata": {},
   "source": [
    "## Forecasting for Apple Inc. stock market data"
   ]
  },
  {
   "cell_type": "code",
   "execution_count": 1,
   "id": "124bde96",
   "metadata": {},
   "outputs": [],
   "source": [
    "import pandas as pd\n",
    "import numpy as np\n",
    "import matplotlib.pyplot as plt\n",
    "from sklearn.preprocessing import MinMaxScaler\n",
    "\n",
    "from tensorflow.keras.models import Sequential\n",
    "from tensorflow.keras.layers import Dense\n",
    "from tensorflow.keras.layers import LSTM"
   ]
  },
  {
   "cell_type": "code",
   "execution_count": 2,
   "id": "79819e35",
   "metadata": {},
   "outputs": [],
   "source": [
    "#!pip install pandas_datareader"
   ]
  },
  {
   "cell_type": "code",
   "execution_count": 3,
   "id": "bc293960",
   "metadata": {},
   "outputs": [],
   "source": [
    "import pandas_datareader as pdr\n",
    "\n",
    "key = '**********'\n",
    "df = pdr.get_data_tiingo('AAPL', api_key=key)"
   ]
  },
  {
   "cell_type": "code",
   "execution_count": 4,
   "id": "c383d827",
   "metadata": {},
   "outputs": [
    {
     "data": {
      "text/html": [
       "<div>\n",
       "<style scoped>\n",
       "    .dataframe tbody tr th:only-of-type {\n",
       "        vertical-align: middle;\n",
       "    }\n",
       "\n",
       "    .dataframe tbody tr th {\n",
       "        vertical-align: top;\n",
       "    }\n",
       "\n",
       "    .dataframe thead th {\n",
       "        text-align: right;\n",
       "    }\n",
       "</style>\n",
       "<table border=\"1\" class=\"dataframe\">\n",
       "  <thead>\n",
       "    <tr style=\"text-align: right;\">\n",
       "      <th></th>\n",
       "      <th></th>\n",
       "      <th>close</th>\n",
       "      <th>high</th>\n",
       "      <th>low</th>\n",
       "      <th>open</th>\n",
       "      <th>volume</th>\n",
       "      <th>adjClose</th>\n",
       "      <th>adjHigh</th>\n",
       "      <th>adjLow</th>\n",
       "      <th>adjOpen</th>\n",
       "      <th>adjVolume</th>\n",
       "      <th>divCash</th>\n",
       "      <th>splitFactor</th>\n",
       "    </tr>\n",
       "    <tr>\n",
       "      <th>symbol</th>\n",
       "      <th>date</th>\n",
       "      <th></th>\n",
       "      <th></th>\n",
       "      <th></th>\n",
       "      <th></th>\n",
       "      <th></th>\n",
       "      <th></th>\n",
       "      <th></th>\n",
       "      <th></th>\n",
       "      <th></th>\n",
       "      <th></th>\n",
       "      <th></th>\n",
       "      <th></th>\n",
       "    </tr>\n",
       "  </thead>\n",
       "  <tbody>\n",
       "    <tr>\n",
       "      <th rowspan=\"5\" valign=\"top\">AAPL</th>\n",
       "      <th>2017-05-15 00:00:00+00:00</th>\n",
       "      <td>155.70</td>\n",
       "      <td>156.65</td>\n",
       "      <td>155.05</td>\n",
       "      <td>156.01</td>\n",
       "      <td>25700983</td>\n",
       "      <td>36.842292</td>\n",
       "      <td>37.067084</td>\n",
       "      <td>36.688486</td>\n",
       "      <td>36.915645</td>\n",
       "      <td>102803932</td>\n",
       "      <td>0.0</td>\n",
       "      <td>1.0</td>\n",
       "    </tr>\n",
       "    <tr>\n",
       "      <th>2017-05-16 00:00:00+00:00</th>\n",
       "      <td>155.47</td>\n",
       "      <td>156.06</td>\n",
       "      <td>154.72</td>\n",
       "      <td>155.94</td>\n",
       "      <td>19904679</td>\n",
       "      <td>36.787868</td>\n",
       "      <td>36.927476</td>\n",
       "      <td>36.610400</td>\n",
       "      <td>36.899081</td>\n",
       "      <td>79618716</td>\n",
       "      <td>0.0</td>\n",
       "      <td>1.0</td>\n",
       "    </tr>\n",
       "    <tr>\n",
       "      <th>2017-05-17 00:00:00+00:00</th>\n",
       "      <td>150.25</td>\n",
       "      <td>154.57</td>\n",
       "      <td>149.71</td>\n",
       "      <td>153.60</td>\n",
       "      <td>49482818</td>\n",
       "      <td>35.552693</td>\n",
       "      <td>36.574907</td>\n",
       "      <td>35.424916</td>\n",
       "      <td>36.345382</td>\n",
       "      <td>197931272</td>\n",
       "      <td>0.0</td>\n",
       "      <td>1.0</td>\n",
       "    </tr>\n",
       "    <tr>\n",
       "      <th>2017-05-18 00:00:00+00:00</th>\n",
       "      <td>152.54</td>\n",
       "      <td>153.34</td>\n",
       "      <td>151.13</td>\n",
       "      <td>151.27</td>\n",
       "      <td>33159664</td>\n",
       "      <td>36.094561</td>\n",
       "      <td>36.283860</td>\n",
       "      <td>35.760922</td>\n",
       "      <td>35.794049</td>\n",
       "      <td>132638656</td>\n",
       "      <td>0.0</td>\n",
       "      <td>1.0</td>\n",
       "    </tr>\n",
       "    <tr>\n",
       "      <th>2017-05-19 00:00:00+00:00</th>\n",
       "      <td>153.06</td>\n",
       "      <td>153.98</td>\n",
       "      <td>152.63</td>\n",
       "      <td>153.38</td>\n",
       "      <td>26733798</td>\n",
       "      <td>36.217605</td>\n",
       "      <td>36.435299</td>\n",
       "      <td>36.115857</td>\n",
       "      <td>36.293325</td>\n",
       "      <td>106935192</td>\n",
       "      <td>0.0</td>\n",
       "      <td>1.0</td>\n",
       "    </tr>\n",
       "  </tbody>\n",
       "</table>\n",
       "</div>"
      ],
      "text/plain": [
       "                                   close    high     low    open    volume  \\\n",
       "symbol date                                                                  \n",
       "AAPL   2017-05-15 00:00:00+00:00  155.70  156.65  155.05  156.01  25700983   \n",
       "       2017-05-16 00:00:00+00:00  155.47  156.06  154.72  155.94  19904679   \n",
       "       2017-05-17 00:00:00+00:00  150.25  154.57  149.71  153.60  49482818   \n",
       "       2017-05-18 00:00:00+00:00  152.54  153.34  151.13  151.27  33159664   \n",
       "       2017-05-19 00:00:00+00:00  153.06  153.98  152.63  153.38  26733798   \n",
       "\n",
       "                                   adjClose    adjHigh     adjLow    adjOpen  \\\n",
       "symbol date                                                                    \n",
       "AAPL   2017-05-15 00:00:00+00:00  36.842292  37.067084  36.688486  36.915645   \n",
       "       2017-05-16 00:00:00+00:00  36.787868  36.927476  36.610400  36.899081   \n",
       "       2017-05-17 00:00:00+00:00  35.552693  36.574907  35.424916  36.345382   \n",
       "       2017-05-18 00:00:00+00:00  36.094561  36.283860  35.760922  35.794049   \n",
       "       2017-05-19 00:00:00+00:00  36.217605  36.435299  36.115857  36.293325   \n",
       "\n",
       "                                  adjVolume  divCash  splitFactor  \n",
       "symbol date                                                        \n",
       "AAPL   2017-05-15 00:00:00+00:00  102803932      0.0          1.0  \n",
       "       2017-05-16 00:00:00+00:00   79618716      0.0          1.0  \n",
       "       2017-05-17 00:00:00+00:00  197931272      0.0          1.0  \n",
       "       2017-05-18 00:00:00+00:00  132638656      0.0          1.0  \n",
       "       2017-05-19 00:00:00+00:00  106935192      0.0          1.0  "
      ]
     },
     "execution_count": 4,
     "metadata": {},
     "output_type": "execute_result"
    }
   ],
   "source": [
    "df.head()"
   ]
  },
  {
   "cell_type": "code",
   "execution_count": 5,
   "id": "5bf832ce",
   "metadata": {},
   "outputs": [
    {
     "name": "stdout",
     "output_type": "stream",
     "text": [
      "<class 'pandas.core.frame.DataFrame'>\n",
      "MultiIndex: 1258 entries, ('AAPL', Timestamp('2017-05-15 00:00:00+0000', tz='UTC')) to ('AAPL', Timestamp('2022-05-11 00:00:00+0000', tz='UTC'))\n",
      "Data columns (total 12 columns):\n",
      " #   Column       Non-Null Count  Dtype  \n",
      "---  ------       --------------  -----  \n",
      " 0   close        1258 non-null   float64\n",
      " 1   high         1258 non-null   float64\n",
      " 2   low          1258 non-null   float64\n",
      " 3   open         1258 non-null   float64\n",
      " 4   volume       1258 non-null   int64  \n",
      " 5   adjClose     1258 non-null   float64\n",
      " 6   adjHigh      1258 non-null   float64\n",
      " 7   adjLow       1258 non-null   float64\n",
      " 8   adjOpen      1258 non-null   float64\n",
      " 9   adjVolume    1258 non-null   int64  \n",
      " 10  divCash      1258 non-null   float64\n",
      " 11  splitFactor  1258 non-null   float64\n",
      "dtypes: float64(10), int64(2)\n",
      "memory usage: 164.0+ KB\n"
     ]
    }
   ],
   "source": [
    "df.info()"
   ]
  },
  {
   "cell_type": "code",
   "execution_count": 6,
   "id": "db573695",
   "metadata": {},
   "outputs": [
    {
     "data": {
      "text/plain": [
       "(1258, 12)"
      ]
     },
     "execution_count": 6,
     "metadata": {},
     "output_type": "execute_result"
    }
   ],
   "source": [
    "df.shape"
   ]
  },
  {
   "cell_type": "code",
   "execution_count": 7,
   "id": "248d1fc2",
   "metadata": {},
   "outputs": [],
   "source": [
    "df.to_csv('AAPL.csv')"
   ]
  },
  {
   "cell_type": "code",
   "execution_count": 8,
   "id": "0a24beb0",
   "metadata": {},
   "outputs": [
    {
     "data": {
      "text/html": [
       "<div>\n",
       "<style scoped>\n",
       "    .dataframe tbody tr th:only-of-type {\n",
       "        vertical-align: middle;\n",
       "    }\n",
       "\n",
       "    .dataframe tbody tr th {\n",
       "        vertical-align: top;\n",
       "    }\n",
       "\n",
       "    .dataframe thead th {\n",
       "        text-align: right;\n",
       "    }\n",
       "</style>\n",
       "<table border=\"1\" class=\"dataframe\">\n",
       "  <thead>\n",
       "    <tr style=\"text-align: right;\">\n",
       "      <th></th>\n",
       "      <th>symbol</th>\n",
       "      <th>date</th>\n",
       "      <th>close</th>\n",
       "      <th>high</th>\n",
       "      <th>low</th>\n",
       "      <th>open</th>\n",
       "      <th>volume</th>\n",
       "      <th>adjClose</th>\n",
       "      <th>adjHigh</th>\n",
       "      <th>adjLow</th>\n",
       "      <th>adjOpen</th>\n",
       "      <th>adjVolume</th>\n",
       "      <th>divCash</th>\n",
       "      <th>splitFactor</th>\n",
       "    </tr>\n",
       "  </thead>\n",
       "  <tbody>\n",
       "    <tr>\n",
       "      <th>0</th>\n",
       "      <td>AAPL</td>\n",
       "      <td>2017-05-15 00:00:00+00:00</td>\n",
       "      <td>155.70</td>\n",
       "      <td>156.65</td>\n",
       "      <td>155.05</td>\n",
       "      <td>156.01</td>\n",
       "      <td>25700983</td>\n",
       "      <td>36.842292</td>\n",
       "      <td>37.067084</td>\n",
       "      <td>36.688486</td>\n",
       "      <td>36.915645</td>\n",
       "      <td>102803932</td>\n",
       "      <td>0.0</td>\n",
       "      <td>1.0</td>\n",
       "    </tr>\n",
       "    <tr>\n",
       "      <th>1</th>\n",
       "      <td>AAPL</td>\n",
       "      <td>2017-05-16 00:00:00+00:00</td>\n",
       "      <td>155.47</td>\n",
       "      <td>156.06</td>\n",
       "      <td>154.72</td>\n",
       "      <td>155.94</td>\n",
       "      <td>19904679</td>\n",
       "      <td>36.787868</td>\n",
       "      <td>36.927476</td>\n",
       "      <td>36.610400</td>\n",
       "      <td>36.899081</td>\n",
       "      <td>79618716</td>\n",
       "      <td>0.0</td>\n",
       "      <td>1.0</td>\n",
       "    </tr>\n",
       "    <tr>\n",
       "      <th>2</th>\n",
       "      <td>AAPL</td>\n",
       "      <td>2017-05-17 00:00:00+00:00</td>\n",
       "      <td>150.25</td>\n",
       "      <td>154.57</td>\n",
       "      <td>149.71</td>\n",
       "      <td>153.60</td>\n",
       "      <td>49482818</td>\n",
       "      <td>35.552693</td>\n",
       "      <td>36.574907</td>\n",
       "      <td>35.424916</td>\n",
       "      <td>36.345382</td>\n",
       "      <td>197931272</td>\n",
       "      <td>0.0</td>\n",
       "      <td>1.0</td>\n",
       "    </tr>\n",
       "    <tr>\n",
       "      <th>3</th>\n",
       "      <td>AAPL</td>\n",
       "      <td>2017-05-18 00:00:00+00:00</td>\n",
       "      <td>152.54</td>\n",
       "      <td>153.34</td>\n",
       "      <td>151.13</td>\n",
       "      <td>151.27</td>\n",
       "      <td>33159664</td>\n",
       "      <td>36.094561</td>\n",
       "      <td>36.283860</td>\n",
       "      <td>35.760922</td>\n",
       "      <td>35.794049</td>\n",
       "      <td>132638656</td>\n",
       "      <td>0.0</td>\n",
       "      <td>1.0</td>\n",
       "    </tr>\n",
       "    <tr>\n",
       "      <th>4</th>\n",
       "      <td>AAPL</td>\n",
       "      <td>2017-05-19 00:00:00+00:00</td>\n",
       "      <td>153.06</td>\n",
       "      <td>153.98</td>\n",
       "      <td>152.63</td>\n",
       "      <td>153.38</td>\n",
       "      <td>26733798</td>\n",
       "      <td>36.217605</td>\n",
       "      <td>36.435299</td>\n",
       "      <td>36.115857</td>\n",
       "      <td>36.293325</td>\n",
       "      <td>106935192</td>\n",
       "      <td>0.0</td>\n",
       "      <td>1.0</td>\n",
       "    </tr>\n",
       "    <tr>\n",
       "      <th>5</th>\n",
       "      <td>AAPL</td>\n",
       "      <td>2017-05-22 00:00:00+00:00</td>\n",
       "      <td>153.99</td>\n",
       "      <td>154.58</td>\n",
       "      <td>152.91</td>\n",
       "      <td>154.00</td>\n",
       "      <td>22340069</td>\n",
       "      <td>36.437665</td>\n",
       "      <td>36.577273</td>\n",
       "      <td>36.182112</td>\n",
       "      <td>36.440031</td>\n",
       "      <td>89360276</td>\n",
       "      <td>0.0</td>\n",
       "      <td>1.0</td>\n",
       "    </tr>\n",
       "    <tr>\n",
       "      <th>6</th>\n",
       "      <td>AAPL</td>\n",
       "      <td>2017-05-23 00:00:00+00:00</td>\n",
       "      <td>153.80</td>\n",
       "      <td>154.90</td>\n",
       "      <td>153.31</td>\n",
       "      <td>154.90</td>\n",
       "      <td>19430358</td>\n",
       "      <td>36.392707</td>\n",
       "      <td>36.652993</td>\n",
       "      <td>36.276761</td>\n",
       "      <td>36.652993</td>\n",
       "      <td>77721432</td>\n",
       "      <td>0.0</td>\n",
       "      <td>1.0</td>\n",
       "    </tr>\n",
       "    <tr>\n",
       "      <th>7</th>\n",
       "      <td>AAPL</td>\n",
       "      <td>2017-05-24 00:00:00+00:00</td>\n",
       "      <td>153.34</td>\n",
       "      <td>154.17</td>\n",
       "      <td>152.67</td>\n",
       "      <td>153.84</td>\n",
       "      <td>19118319</td>\n",
       "      <td>36.283860</td>\n",
       "      <td>36.480257</td>\n",
       "      <td>36.125322</td>\n",
       "      <td>36.402172</td>\n",
       "      <td>76473276</td>\n",
       "      <td>0.0</td>\n",
       "      <td>1.0</td>\n",
       "    </tr>\n",
       "    <tr>\n",
       "      <th>8</th>\n",
       "      <td>AAPL</td>\n",
       "      <td>2017-05-25 00:00:00+00:00</td>\n",
       "      <td>153.87</td>\n",
       "      <td>154.35</td>\n",
       "      <td>153.03</td>\n",
       "      <td>153.73</td>\n",
       "      <td>19044463</td>\n",
       "      <td>36.409270</td>\n",
       "      <td>36.522850</td>\n",
       "      <td>36.210507</td>\n",
       "      <td>36.376143</td>\n",
       "      <td>76177852</td>\n",
       "      <td>0.0</td>\n",
       "      <td>1.0</td>\n",
       "    </tr>\n",
       "    <tr>\n",
       "      <th>9</th>\n",
       "      <td>AAPL</td>\n",
       "      <td>2017-05-26 00:00:00+00:00</td>\n",
       "      <td>153.61</td>\n",
       "      <td>154.24</td>\n",
       "      <td>153.31</td>\n",
       "      <td>154.00</td>\n",
       "      <td>21632202</td>\n",
       "      <td>36.347748</td>\n",
       "      <td>36.496821</td>\n",
       "      <td>36.276761</td>\n",
       "      <td>36.440031</td>\n",
       "      <td>86528808</td>\n",
       "      <td>0.0</td>\n",
       "      <td>1.0</td>\n",
       "    </tr>\n",
       "  </tbody>\n",
       "</table>\n",
       "</div>"
      ],
      "text/plain": [
       "  symbol                       date   close    high     low    open    volume  \\\n",
       "0   AAPL  2017-05-15 00:00:00+00:00  155.70  156.65  155.05  156.01  25700983   \n",
       "1   AAPL  2017-05-16 00:00:00+00:00  155.47  156.06  154.72  155.94  19904679   \n",
       "2   AAPL  2017-05-17 00:00:00+00:00  150.25  154.57  149.71  153.60  49482818   \n",
       "3   AAPL  2017-05-18 00:00:00+00:00  152.54  153.34  151.13  151.27  33159664   \n",
       "4   AAPL  2017-05-19 00:00:00+00:00  153.06  153.98  152.63  153.38  26733798   \n",
       "5   AAPL  2017-05-22 00:00:00+00:00  153.99  154.58  152.91  154.00  22340069   \n",
       "6   AAPL  2017-05-23 00:00:00+00:00  153.80  154.90  153.31  154.90  19430358   \n",
       "7   AAPL  2017-05-24 00:00:00+00:00  153.34  154.17  152.67  153.84  19118319   \n",
       "8   AAPL  2017-05-25 00:00:00+00:00  153.87  154.35  153.03  153.73  19044463   \n",
       "9   AAPL  2017-05-26 00:00:00+00:00  153.61  154.24  153.31  154.00  21632202   \n",
       "\n",
       "    adjClose    adjHigh     adjLow    adjOpen  adjVolume  divCash  splitFactor  \n",
       "0  36.842292  37.067084  36.688486  36.915645  102803932      0.0          1.0  \n",
       "1  36.787868  36.927476  36.610400  36.899081   79618716      0.0          1.0  \n",
       "2  35.552693  36.574907  35.424916  36.345382  197931272      0.0          1.0  \n",
       "3  36.094561  36.283860  35.760922  35.794049  132638656      0.0          1.0  \n",
       "4  36.217605  36.435299  36.115857  36.293325  106935192      0.0          1.0  \n",
       "5  36.437665  36.577273  36.182112  36.440031   89360276      0.0          1.0  \n",
       "6  36.392707  36.652993  36.276761  36.652993   77721432      0.0          1.0  \n",
       "7  36.283860  36.480257  36.125322  36.402172   76473276      0.0          1.0  \n",
       "8  36.409270  36.522850  36.210507  36.376143   76177852      0.0          1.0  \n",
       "9  36.347748  36.496821  36.276761  36.440031   86528808      0.0          1.0  "
      ]
     },
     "execution_count": 8,
     "metadata": {},
     "output_type": "execute_result"
    }
   ],
   "source": [
    "df = pd.read_csv('AAPL.csv')\n",
    "df.head(10)"
   ]
  },
  {
   "cell_type": "code",
   "execution_count": 9,
   "id": "adf43cf4",
   "metadata": {},
   "outputs": [
    {
     "data": {
      "text/html": [
       "<div>\n",
       "<style scoped>\n",
       "    .dataframe tbody tr th:only-of-type {\n",
       "        vertical-align: middle;\n",
       "    }\n",
       "\n",
       "    .dataframe tbody tr th {\n",
       "        vertical-align: top;\n",
       "    }\n",
       "\n",
       "    .dataframe thead th {\n",
       "        text-align: right;\n",
       "    }\n",
       "</style>\n",
       "<table border=\"1\" class=\"dataframe\">\n",
       "  <thead>\n",
       "    <tr style=\"text-align: right;\">\n",
       "      <th></th>\n",
       "      <th>symbol</th>\n",
       "      <th>date</th>\n",
       "      <th>close</th>\n",
       "      <th>high</th>\n",
       "      <th>low</th>\n",
       "      <th>open</th>\n",
       "      <th>volume</th>\n",
       "      <th>adjClose</th>\n",
       "      <th>adjHigh</th>\n",
       "      <th>adjLow</th>\n",
       "      <th>adjOpen</th>\n",
       "      <th>adjVolume</th>\n",
       "      <th>divCash</th>\n",
       "      <th>splitFactor</th>\n",
       "    </tr>\n",
       "  </thead>\n",
       "  <tbody>\n",
       "    <tr>\n",
       "      <th>1253</th>\n",
       "      <td>AAPL</td>\n",
       "      <td>2022-05-05 00:00:00+00:00</td>\n",
       "      <td>156.77</td>\n",
       "      <td>164.08</td>\n",
       "      <td>154.95</td>\n",
       "      <td>163.850</td>\n",
       "      <td>130525275</td>\n",
       "      <td>156.541081</td>\n",
       "      <td>163.840406</td>\n",
       "      <td>154.723738</td>\n",
       "      <td>163.610742</td>\n",
       "      <td>130525275</td>\n",
       "      <td>0.00</td>\n",
       "      <td>1.0</td>\n",
       "    </tr>\n",
       "    <tr>\n",
       "      <th>1254</th>\n",
       "      <td>AAPL</td>\n",
       "      <td>2022-05-06 00:00:00+00:00</td>\n",
       "      <td>157.28</td>\n",
       "      <td>159.44</td>\n",
       "      <td>154.18</td>\n",
       "      <td>156.010</td>\n",
       "      <td>116124647</td>\n",
       "      <td>157.280000</td>\n",
       "      <td>159.440000</td>\n",
       "      <td>154.180000</td>\n",
       "      <td>156.010000</td>\n",
       "      <td>116124647</td>\n",
       "      <td>0.23</td>\n",
       "      <td>1.0</td>\n",
       "    </tr>\n",
       "    <tr>\n",
       "      <th>1255</th>\n",
       "      <td>AAPL</td>\n",
       "      <td>2022-05-09 00:00:00+00:00</td>\n",
       "      <td>152.06</td>\n",
       "      <td>155.83</td>\n",
       "      <td>151.49</td>\n",
       "      <td>154.925</td>\n",
       "      <td>131577921</td>\n",
       "      <td>152.060000</td>\n",
       "      <td>155.830000</td>\n",
       "      <td>151.490000</td>\n",
       "      <td>154.925000</td>\n",
       "      <td>131577921</td>\n",
       "      <td>0.00</td>\n",
       "      <td>1.0</td>\n",
       "    </tr>\n",
       "    <tr>\n",
       "      <th>1256</th>\n",
       "      <td>AAPL</td>\n",
       "      <td>2022-05-10 00:00:00+00:00</td>\n",
       "      <td>154.51</td>\n",
       "      <td>156.74</td>\n",
       "      <td>152.93</td>\n",
       "      <td>155.520</td>\n",
       "      <td>115366736</td>\n",
       "      <td>154.510000</td>\n",
       "      <td>156.740000</td>\n",
       "      <td>152.930000</td>\n",
       "      <td>155.520000</td>\n",
       "      <td>115366736</td>\n",
       "      <td>0.00</td>\n",
       "      <td>1.0</td>\n",
       "    </tr>\n",
       "    <tr>\n",
       "      <th>1257</th>\n",
       "      <td>AAPL</td>\n",
       "      <td>2022-05-11 00:00:00+00:00</td>\n",
       "      <td>146.50</td>\n",
       "      <td>155.45</td>\n",
       "      <td>145.81</td>\n",
       "      <td>153.500</td>\n",
       "      <td>142689825</td>\n",
       "      <td>146.500000</td>\n",
       "      <td>155.450000</td>\n",
       "      <td>145.810000</td>\n",
       "      <td>153.500000</td>\n",
       "      <td>142689825</td>\n",
       "      <td>0.00</td>\n",
       "      <td>1.0</td>\n",
       "    </tr>\n",
       "  </tbody>\n",
       "</table>\n",
       "</div>"
      ],
      "text/plain": [
       "     symbol                       date   close    high     low     open  \\\n",
       "1253   AAPL  2022-05-05 00:00:00+00:00  156.77  164.08  154.95  163.850   \n",
       "1254   AAPL  2022-05-06 00:00:00+00:00  157.28  159.44  154.18  156.010   \n",
       "1255   AAPL  2022-05-09 00:00:00+00:00  152.06  155.83  151.49  154.925   \n",
       "1256   AAPL  2022-05-10 00:00:00+00:00  154.51  156.74  152.93  155.520   \n",
       "1257   AAPL  2022-05-11 00:00:00+00:00  146.50  155.45  145.81  153.500   \n",
       "\n",
       "         volume    adjClose     adjHigh      adjLow     adjOpen  adjVolume  \\\n",
       "1253  130525275  156.541081  163.840406  154.723738  163.610742  130525275   \n",
       "1254  116124647  157.280000  159.440000  154.180000  156.010000  116124647   \n",
       "1255  131577921  152.060000  155.830000  151.490000  154.925000  131577921   \n",
       "1256  115366736  154.510000  156.740000  152.930000  155.520000  115366736   \n",
       "1257  142689825  146.500000  155.450000  145.810000  153.500000  142689825   \n",
       "\n",
       "      divCash  splitFactor  \n",
       "1253     0.00          1.0  \n",
       "1254     0.23          1.0  \n",
       "1255     0.00          1.0  \n",
       "1256     0.00          1.0  \n",
       "1257     0.00          1.0  "
      ]
     },
     "execution_count": 9,
     "metadata": {},
     "output_type": "execute_result"
    }
   ],
   "source": [
    "df.tail()  # data available until 2022/05/11"
   ]
  },
  {
   "cell_type": "code",
   "execution_count": 10,
   "id": "fa2dd2ff",
   "metadata": {},
   "outputs": [
    {
     "data": {
      "text/plain": [
       "(1258, 14)"
      ]
     },
     "execution_count": 10,
     "metadata": {},
     "output_type": "execute_result"
    }
   ],
   "source": [
    "df.shape"
   ]
  },
  {
   "cell_type": "code",
   "execution_count": 11,
   "id": "610f56bf",
   "metadata": {},
   "outputs": [
    {
     "data": {
      "text/plain": [
       "1258"
      ]
     },
     "execution_count": 11,
     "metadata": {},
     "output_type": "execute_result"
    }
   ],
   "source": [
    "len(df['date'].unique())"
   ]
  },
  {
   "cell_type": "code",
   "execution_count": 12,
   "id": "1b7a9d87",
   "metadata": {},
   "outputs": [
    {
     "data": {
      "text/plain": [
       "False"
      ]
     },
     "execution_count": 12,
     "metadata": {},
     "output_type": "execute_result"
    }
   ],
   "source": [
    "df.isnull().values.any() # no null values"
   ]
  },
  {
   "cell_type": "code",
   "execution_count": 13,
   "id": "1ea3541b",
   "metadata": {},
   "outputs": [
    {
     "data": {
      "text/plain": [
       "0    155.70\n",
       "1    155.47\n",
       "2    150.25\n",
       "3    152.54\n",
       "4    153.06\n",
       "5    153.99\n",
       "6    153.80\n",
       "7    153.34\n",
       "8    153.87\n",
       "9    153.61\n",
       "Name: close, dtype: float64"
      ]
     },
     "execution_count": 13,
     "metadata": {},
     "output_type": "execute_result"
    }
   ],
   "source": [
    "df1 = df['close'] # let's take 'close' to predict\n",
    "df1.head(10)"
   ]
  },
  {
   "cell_type": "code",
   "execution_count": 14,
   "id": "13a9e045",
   "metadata": {},
   "outputs": [
    {
     "data": {
      "image/png": "[encoded data removed]",
      "text/plain": [
       "<Figure size 432x288 with 1 Axes>"
      ]
     },
     "metadata": {
      "needs_background": "light"
     },
     "output_type": "display_data"
    }
   ],
   "source": [
    "plt.plot(df1)\n",
    "plt.title('Change in close_price with days')\n",
    "plt.ylabel('price')\n",
    "plt.show()"
   ]
  },
  {
   "cell_type": "code",
   "execution_count": 15,
   "id": "49515f93",
   "metadata": {},
   "outputs": [
    {
     "data": {
      "text/plain": [
       "array([155.7 , 155.47, 150.25, ..., 152.06, 154.51, 146.5 ])"
      ]
     },
     "execution_count": 15,
     "metadata": {},
     "output_type": "execute_result"
    }
   ],
   "source": [
    "np.array(df1)"
   ]
  },
  {
   "cell_type": "code",
   "execution_count": 16,
   "id": "b7e45fa8",
   "metadata": {},
   "outputs": [
    {
     "data": {
      "text/plain": [
       "array([[155.7 , 155.47, 150.25, ..., 152.06, 154.51, 146.5 ]])"
      ]
     },
     "execution_count": 16,
     "metadata": {},
     "output_type": "execute_result"
    }
   ],
   "source": [
    "np.array(df1).reshape(1, -1)"
   ]
  },
  {
   "cell_type": "code",
   "execution_count": 17,
   "id": "dd54a933",
   "metadata": {
    "scrolled": true
   },
   "outputs": [],
   "source": [
    "# scaling\n",
    "scaler = MinMaxScaler()\n",
    "df2 = scaler.fit_transform(np.array(df1).reshape(-1, 1))"
   ]
  },
  {
   "cell_type": "code",
   "execution_count": 18,
   "id": "3d7533e1",
   "metadata": {},
   "outputs": [],
   "source": [
    "# split dataset into train, test - have to maintain the time sequence\n",
    "train_size = int(len(df2)*0.65)\n",
    "train_data, test_data = df2[0:train_size, :], df2[train_size:len(df2), :]"
   ]
  },
  {
   "cell_type": "code",
   "execution_count": 96,
   "id": "04af79c0",
   "metadata": {
    "scrolled": true
   },
   "outputs": [
    {
     "data": {
      "text/plain": [
       "array([[0.12237946],\n",
       "       [0.12180338],\n",
       "       [0.10872887],\n",
       "       [0.11446462],\n",
       "       [0.11576706],\n",
       "       [0.11809643],\n",
       "       [0.11762054],\n",
       "       [0.11646838],\n",
       "       [0.11779587],\n",
       "       [0.11714465]])"
      ]
     },
     "execution_count": 96,
     "metadata": {},
     "output_type": "execute_result"
    }
   ],
   "source": [
    "train_data[:10]"
   ]
  },
  {
   "cell_type": "code",
   "execution_count": 20,
   "id": "0d1c8ff6",
   "metadata": {},
   "outputs": [],
   "source": [
    "# create the dataset\n",
    "def create_dataset(data, time_step):\n",
    "    X, y = [], []\n",
    "    #X= [], y=[]\n",
    "    for i in range(len(data)-time_step):\n",
    "        features = data[i:(i+time_step), 0]\n",
    "        target = data[i+time_step,0]\n",
    "        \n",
    "        X.append(features)\n",
    "        y.append(target)\n",
    "    return np.array(X), np.array(y) "
   ]
  },
  {
   "cell_type": "code",
   "execution_count": 21,
   "id": "4a380701",
   "metadata": {},
   "outputs": [],
   "source": [
    "time_step = 100\n",
    "X_train, y_train = create_dataset(train_data, time_step)\n",
    "X_test, y_test = create_dataset(test_data, time_step)"
   ]
  },
  {
   "cell_type": "code",
   "execution_count": 22,
   "id": "ef62e1e5",
   "metadata": {},
   "outputs": [
    {
     "data": {
      "text/plain": [
       "array([[0.12237946, 0.12180338, 0.10872887, ..., 0.11764559, 0.11932373,\n",
       "        0.11681904],\n",
       "       [0.12180338, 0.10872887, 0.11446462, ..., 0.11932373, 0.11681904,\n",
       "        0.12160301],\n",
       "       [0.10872887, 0.11446462, 0.11576706, ..., 0.11681904, 0.12160301,\n",
       "        0.12137758],\n",
       "       ...,\n",
       "       [0.36573575, 0.35023168, 0.34549781, ..., 0.83110833, 0.8350908 ,\n",
       "        0.87356293],\n",
       "       [0.35023168, 0.34549781, 0.30657483, ..., 0.8350908 , 0.87356293,\n",
       "        0.84561052],\n",
       "       [0.34549781, 0.30657483, 0.29437696, ..., 0.87356293, 0.84561052,\n",
       "        0.86179086]])"
      ]
     },
     "execution_count": 22,
     "metadata": {},
     "output_type": "execute_result"
    }
   ],
   "source": [
    "X_train"
   ]
  },
  {
   "cell_type": "code",
   "execution_count": 23,
   "id": "d553f562",
   "metadata": {},
   "outputs": [
    {
     "data": {
      "text/plain": [
       "array([0.06053851, 0.0494928 , 0.06031309, 0.06314339, 0.05545398,\n",
       "       0.05500313, 0.06023795, 0.05527865, 0.05084534, 0.05257358])"
      ]
     },
     "execution_count": 23,
     "metadata": {},
     "output_type": "execute_result"
    }
   ],
   "source": [
    "y_test[:10]"
   ]
  },
  {
   "cell_type": "code",
   "execution_count": 24,
   "id": "90ab5299",
   "metadata": {},
   "outputs": [
    {
     "name": "stdout",
     "output_type": "stream",
     "text": [
      "(717, 100)\n",
      "(717,)\n"
     ]
    }
   ],
   "source": [
    "print(X_train.shape)\n",
    "print(y_train.shape)"
   ]
  },
  {
   "cell_type": "code",
   "execution_count": 25,
   "id": "39dd625e",
   "metadata": {},
   "outputs": [
    {
     "name": "stdout",
     "output_type": "stream",
     "text": [
      "(341, 100)\n",
      "(341,)\n"
     ]
    }
   ],
   "source": [
    "print(X_test.shape)\n",
    "print(y_test.shape)"
   ]
  },
  {
   "cell_type": "code",
   "execution_count": 26,
   "id": "21cbd3d7",
   "metadata": {},
   "outputs": [],
   "source": [
    "# reshape inputs - required for LSTM\n",
    "\n",
    "X_train = X_train.reshape(X_train.shape[0], X_train.shape[1], 1)\n",
    "X_test = X_test.reshape(X_test.shape[0], X_test.shape[1], 1)"
   ]
  },
  {
   "cell_type": "code",
   "execution_count": 27,
   "id": "8db04e4d",
   "metadata": {},
   "outputs": [
    {
     "name": "stdout",
     "output_type": "stream",
     "text": [
      "Model: \"sequential\"\n",
      "_________________________________________________________________\n",
      " Layer (type)                Output Shape              Param #   \n",
      "=================================================================\n",
      " lstm (LSTM)                 (None, 100, 50)           10400     \n",
      "                                                                 \n",
      " lstm_1 (LSTM)               (None, 100, 50)           20200     \n",
      "                                                                 \n",
      " lstm_2 (LSTM)               (None, 50)                20200     \n",
      "                                                                 \n",
      " dense (Dense)               (None, 1)                 51        \n",
      "                                                                 \n",
      "=================================================================\n",
      "Total params: 50,851\n",
      "Trainable params: 50,851\n",
      "Non-trainable params: 0\n",
      "_________________________________________________________________\n"
     ]
    }
   ],
   "source": [
    "# MODEL - Stacked LSTM\n",
    "\n",
    "model = Sequential()\n",
    "model.add(LSTM(50, return_sequences=True, input_shape=(100, 1)))\n",
    "model.add(LSTM(50, return_sequences=True))\n",
    "model.add(LSTM(50))\n",
    "model.add(Dense(1))\n",
    "\n",
    "model.compile(loss='mean_squared_error', optimizer='adam')\n",
    "model.summary()"
   ]
  },
  {
   "cell_type": "code",
   "execution_count": 28,
   "id": "09750fed",
   "metadata": {},
   "outputs": [
    {
     "name": "stdout",
     "output_type": "stream",
     "text": [
      "Epoch 1/100\n",
      "11/11 [==============================] - 8s 240ms/step - loss: 0.0210 - val_loss: 0.0517\n",
      "Epoch 2/100\n",
      "11/11 [==============================] - 2s 150ms/step - loss: 0.0040 - val_loss: 0.0130\n",
      "Epoch 3/100\n",
      "11/11 [==============================] - 2s 198ms/step - loss: 0.0026 - val_loss: 0.0244\n",
      "Epoch 4/100\n",
      "11/11 [==============================] - 2s 152ms/step - loss: 0.0015 - val_loss: 0.0085\n",
      "Epoch 5/100\n",
      "11/11 [==============================] - 2s 186ms/step - loss: 0.0012 - val_loss: 0.0027\n",
      "Epoch 6/100\n",
      "11/11 [==============================] - 2s 174ms/step - loss: 0.0010 - val_loss: 0.0025\n",
      "Epoch 7/100\n",
      "11/11 [==============================] - 2s 179ms/step - loss: 9.6501e-04 - val_loss: 0.0049\n",
      "Epoch 8/100\n",
      "11/11 [==============================] - 2s 181ms/step - loss: 9.1198e-04 - val_loss: 0.0048\n",
      "Epoch 9/100\n",
      "11/11 [==============================] - 2s 143ms/step - loss: 8.7507e-04 - val_loss: 0.0026\n",
      "Epoch 10/100\n",
      "11/11 [==============================] - 2s 141ms/step - loss: 8.5371e-04 - val_loss: 0.0020\n",
      "Epoch 11/100\n",
      "11/11 [==============================] - 2s 145ms/step - loss: 7.8825e-04 - val_loss: 0.0030\n",
      "Epoch 12/100\n",
      "11/11 [==============================] - 2s 141ms/step - loss: 7.2430e-04 - val_loss: 0.0024\n",
      "Epoch 13/100\n",
      "11/11 [==============================] - 2s 152ms/step - loss: 6.7138e-04 - val_loss: 0.0044\n",
      "Epoch 14/100\n",
      "11/11 [==============================] - 2s 140ms/step - loss: 7.6209e-04 - val_loss: 0.0052\n",
      "Epoch 15/100\n",
      "11/11 [==============================] - 2s 141ms/step - loss: 6.3668e-04 - val_loss: 0.0025\n",
      "Epoch 16/100\n",
      "11/11 [==============================] - 2s 170ms/step - loss: 5.6126e-04 - val_loss: 0.0042\n",
      "Epoch 17/100\n",
      "11/11 [==============================] - 2s 144ms/step - loss: 5.2447e-04 - val_loss: 0.0045\n",
      "Epoch 18/100\n",
      "11/11 [==============================] - 2s 152ms/step - loss: 5.4166e-04 - val_loss: 0.0033\n",
      "Epoch 19/100\n",
      "11/11 [==============================] - 2s 151ms/step - loss: 5.2626e-04 - val_loss: 0.0023\n",
      "Epoch 20/100\n",
      "11/11 [==============================] - 2s 142ms/step - loss: 4.9550e-04 - val_loss: 0.0063\n",
      "Epoch 21/100\n",
      "11/11 [==============================] - 2s 146ms/step - loss: 5.4577e-04 - val_loss: 0.0027\n",
      "Epoch 22/100\n",
      "11/11 [==============================] - 2s 144ms/step - loss: 5.5286e-04 - val_loss: 0.0029\n",
      "Epoch 23/100\n",
      "11/11 [==============================] - 2s 140ms/step - loss: 4.9961e-04 - val_loss: 0.0052\n",
      "Epoch 24/100\n",
      "11/11 [==============================] - 2s 140ms/step - loss: 4.7386e-04 - val_loss: 0.0033\n",
      "Epoch 25/100\n",
      "11/11 [==============================] - 2s 172ms/step - loss: 4.6057e-04 - val_loss: 0.0046\n",
      "Epoch 26/100\n",
      "11/11 [==============================] - 2s 221ms/step - loss: 5.4968e-04 - val_loss: 0.0050\n",
      "Epoch 27/100\n",
      "11/11 [==============================] - 3s 239ms/step - loss: 4.4509e-04 - val_loss: 0.0033\n",
      "Epoch 28/100\n",
      "11/11 [==============================] - 2s 194ms/step - loss: 4.5700e-04 - val_loss: 0.0041\n",
      "Epoch 29/100\n",
      "11/11 [==============================] - 2s 172ms/step - loss: 4.7736e-04 - val_loss: 0.0034\n",
      "Epoch 30/100\n",
      "11/11 [==============================] - 2s 150ms/step - loss: 4.4088e-04 - val_loss: 0.0040\n",
      "Epoch 31/100\n",
      "11/11 [==============================] - 2s 156ms/step - loss: 4.4294e-04 - val_loss: 0.0022\n",
      "Epoch 32/100\n",
      "11/11 [==============================] - 2s 141ms/step - loss: 5.7613e-04 - val_loss: 0.0029\n",
      "Epoch 33/100\n",
      "11/11 [==============================] - 2s 143ms/step - loss: 4.5547e-04 - val_loss: 0.0058\n",
      "Epoch 34/100\n",
      "11/11 [==============================] - 2s 149ms/step - loss: 4.9453e-04 - val_loss: 0.0035\n",
      "Epoch 35/100\n",
      "11/11 [==============================] - 2s 141ms/step - loss: 4.3627e-04 - val_loss: 0.0054\n",
      "Epoch 36/100\n",
      "11/11 [==============================] - 2s 142ms/step - loss: 4.9081e-04 - val_loss: 0.0028\n",
      "Epoch 37/100\n",
      "11/11 [==============================] - 2s 149ms/step - loss: 4.4720e-04 - val_loss: 0.0031\n",
      "Epoch 38/100\n",
      "11/11 [==============================] - 2s 142ms/step - loss: 4.2616e-04 - val_loss: 0.0036\n",
      "Epoch 39/100\n",
      "11/11 [==============================] - 2s 145ms/step - loss: 4.2796e-04 - val_loss: 0.0045\n",
      "Epoch 40/100\n",
      "11/11 [==============================] - 2s 143ms/step - loss: 4.3385e-04 - val_loss: 0.0042\n",
      "Epoch 41/100\n",
      "11/11 [==============================] - 2s 140ms/step - loss: 4.1845e-04 - val_loss: 0.0023\n",
      "Epoch 42/100\n",
      "11/11 [==============================] - 2s 141ms/step - loss: 4.4821e-04 - val_loss: 0.0049\n",
      "Epoch 43/100\n",
      "11/11 [==============================] - 2s 141ms/step - loss: 4.3891e-04 - val_loss: 0.0042\n",
      "Epoch 44/100\n",
      "11/11 [==============================] - 2s 143ms/step - loss: 4.4410e-04 - val_loss: 0.0030\n",
      "Epoch 45/100\n",
      "11/11 [==============================] - 2s 142ms/step - loss: 4.2814e-04 - val_loss: 0.0034\n",
      "Epoch 46/100\n",
      "11/11 [==============================] - 2s 142ms/step - loss: 4.1529e-04 - val_loss: 0.0027\n",
      "Epoch 47/100\n",
      "11/11 [==============================] - 2s 140ms/step - loss: 3.9291e-04 - val_loss: 0.0038\n",
      "Epoch 48/100\n",
      "11/11 [==============================] - 2s 141ms/step - loss: 4.0290e-04 - val_loss: 0.0044\n",
      "Epoch 49/100\n",
      "11/11 [==============================] - 2s 140ms/step - loss: 4.2069e-04 - val_loss: 0.0032\n",
      "Epoch 50/100\n",
      "11/11 [==============================] - 2s 140ms/step - loss: 4.4103e-04 - val_loss: 0.0025\n",
      "Epoch 51/100\n",
      "11/11 [==============================] - 2s 139ms/step - loss: 5.2016e-04 - val_loss: 0.0026\n",
      "Epoch 52/100\n",
      "11/11 [==============================] - 2s 167ms/step - loss: 4.0972e-04 - val_loss: 0.0034\n",
      "Epoch 53/100\n",
      "11/11 [==============================] - 2s 139ms/step - loss: 3.8524e-04 - val_loss: 0.0033\n",
      "Epoch 54/100\n",
      "11/11 [==============================] - 2s 140ms/step - loss: 3.8603e-04 - val_loss: 0.0034\n",
      "Epoch 55/100\n",
      "11/11 [==============================] - 2s 139ms/step - loss: 3.8730e-04 - val_loss: 0.0031\n",
      "Epoch 56/100\n",
      "11/11 [==============================] - 2s 141ms/step - loss: 3.9183e-04 - val_loss: 0.0040\n",
      "Epoch 57/100\n",
      "11/11 [==============================] - 2s 139ms/step - loss: 3.9066e-04 - val_loss: 0.0019\n",
      "Epoch 58/100\n",
      "11/11 [==============================] - 2s 139ms/step - loss: 6.8669e-04 - val_loss: 0.0021\n",
      "Epoch 59/100\n",
      "11/11 [==============================] - 2s 143ms/step - loss: 4.0838e-04 - val_loss: 0.0037\n",
      "Epoch 60/100\n",
      "11/11 [==============================] - 2s 139ms/step - loss: 3.9143e-04 - val_loss: 0.0030\n",
      "Epoch 61/100\n",
      "11/11 [==============================] - 2s 145ms/step - loss: 3.8150e-04 - val_loss: 0.0038\n",
      "Epoch 62/100\n",
      "11/11 [==============================] - 2s 150ms/step - loss: 3.7691e-04 - val_loss: 0.0026\n",
      "Epoch 63/100\n",
      "11/11 [==============================] - 2s 143ms/step - loss: 3.7958e-04 - val_loss: 0.0018\n",
      "Epoch 64/100\n",
      "11/11 [==============================] - 2s 148ms/step - loss: 3.9997e-04 - val_loss: 0.0021\n",
      "Epoch 65/100\n",
      "11/11 [==============================] - 2s 175ms/step - loss: 4.0901e-04 - val_loss: 0.0030\n",
      "Epoch 66/100\n",
      "11/11 [==============================] - 2s 160ms/step - loss: 3.9346e-04 - val_loss: 0.0024\n",
      "Epoch 67/100\n",
      "11/11 [==============================] - 2s 166ms/step - loss: 3.7258e-04 - val_loss: 0.0019\n",
      "Epoch 68/100\n",
      "11/11 [==============================] - 2s 157ms/step - loss: 4.1823e-04 - val_loss: 0.0027\n",
      "Epoch 69/100\n",
      "11/11 [==============================] - 2s 203ms/step - loss: 3.9537e-04 - val_loss: 0.0017\n",
      "Epoch 70/100\n",
      "11/11 [==============================] - 2s 174ms/step - loss: 4.1861e-04 - val_loss: 0.0036\n",
      "Epoch 71/100\n",
      "11/11 [==============================] - 2s 193ms/step - loss: 3.7441e-04 - val_loss: 0.0024\n",
      "Epoch 72/100\n",
      "11/11 [==============================] - 2s 205ms/step - loss: 3.5074e-04 - val_loss: 0.0021\n",
      "Epoch 73/100\n",
      "11/11 [==============================] - 2s 200ms/step - loss: 3.4965e-04 - val_loss: 0.0024\n",
      "Epoch 74/100\n",
      "11/11 [==============================] - 2s 164ms/step - loss: 3.4404e-04 - val_loss: 0.0023\n",
      "Epoch 75/100\n",
      "11/11 [==============================] - 2s 195ms/step - loss: 3.6309e-04 - val_loss: 0.0021\n",
      "Epoch 76/100\n",
      "11/11 [==============================] - 2s 176ms/step - loss: 3.7906e-04 - val_loss: 0.0018\n",
      "Epoch 77/100\n",
      "11/11 [==============================] - 2s 168ms/step - loss: 3.4510e-04 - val_loss: 0.0021\n",
      "Epoch 78/100\n"
     ]
    },
    {
     "name": "stdout",
     "output_type": "stream",
     "text": [
      "11/11 [==============================] - 2s 143ms/step - loss: 3.4937e-04 - val_loss: 0.0015\n",
      "Epoch 79/100\n",
      "11/11 [==============================] - 2s 156ms/step - loss: 4.1083e-04 - val_loss: 0.0036\n",
      "Epoch 80/100\n",
      "11/11 [==============================] - 2s 166ms/step - loss: 4.2367e-04 - val_loss: 0.0035\n",
      "Epoch 81/100\n",
      "11/11 [==============================] - 2s 145ms/step - loss: 3.9782e-04 - val_loss: 0.0017\n",
      "Epoch 82/100\n",
      "11/11 [==============================] - 2s 141ms/step - loss: 3.3700e-04 - val_loss: 0.0020\n",
      "Epoch 83/100\n",
      "11/11 [==============================] - 2s 141ms/step - loss: 3.2792e-04 - val_loss: 0.0022\n",
      "Epoch 84/100\n",
      "11/11 [==============================] - 2s 148ms/step - loss: 3.3247e-04 - val_loss: 0.0037\n",
      "Epoch 85/100\n",
      "11/11 [==============================] - 2s 147ms/step - loss: 3.2978e-04 - val_loss: 0.0031\n",
      "Epoch 86/100\n",
      "11/11 [==============================] - 2s 142ms/step - loss: 3.2397e-04 - val_loss: 0.0020\n",
      "Epoch 87/100\n",
      "11/11 [==============================] - 2s 140ms/step - loss: 3.3188e-04 - val_loss: 0.0029\n",
      "Epoch 88/100\n",
      "11/11 [==============================] - 2s 157ms/step - loss: 3.4336e-04 - val_loss: 0.0052\n",
      "Epoch 89/100\n",
      "11/11 [==============================] - 2s 154ms/step - loss: 3.8695e-04 - val_loss: 0.0036\n",
      "Epoch 90/100\n",
      "11/11 [==============================] - 2s 156ms/step - loss: 3.6011e-04 - val_loss: 0.0014\n",
      "Epoch 91/100\n",
      "11/11 [==============================] - 2s 165ms/step - loss: 3.6271e-04 - val_loss: 0.0030\n",
      "Epoch 92/100\n",
      "11/11 [==============================] - 2s 165ms/step - loss: 3.1913e-04 - val_loss: 0.0025\n",
      "Epoch 93/100\n",
      "11/11 [==============================] - 2s 168ms/step - loss: 3.2422e-04 - val_loss: 0.0015\n",
      "Epoch 94/100\n",
      "11/11 [==============================] - 2s 152ms/step - loss: 3.2250e-04 - val_loss: 0.0029\n",
      "Epoch 95/100\n",
      "11/11 [==============================] - 2s 148ms/step - loss: 3.0921e-04 - val_loss: 0.0025\n",
      "Epoch 96/100\n",
      "11/11 [==============================] - 2s 143ms/step - loss: 3.1151e-04 - val_loss: 0.0017\n",
      "Epoch 97/100\n",
      "11/11 [==============================] - 2s 173ms/step - loss: 3.9730e-04 - val_loss: 0.0015\n",
      "Epoch 98/100\n",
      "11/11 [==============================] - 2s 145ms/step - loss: 4.1077e-04 - val_loss: 0.0027\n",
      "Epoch 99/100\n",
      "11/11 [==============================] - 2s 144ms/step - loss: 3.7054e-04 - val_loss: 0.0013\n",
      "Epoch 100/100\n",
      "11/11 [==============================] - 2s 147ms/step - loss: 4.0337e-04 - val_loss: 0.0026\n"
     ]
    }
   ],
   "source": [
    "history = model.fit(X_train, y_train, validation_split=0.1, epochs=100, batch_size=64)"
   ]
  },
  {
   "cell_type": "code",
   "execution_count": 97,
   "id": "107e19e8",
   "metadata": {},
   "outputs": [
    {
     "data": {
      "image/png": "[encoded data removed]",
      "text/plain": [
       "<Figure size 432x288 with 1 Axes>"
      ]
     },
     "metadata": {
      "needs_background": "light"
     },
     "output_type": "display_data"
    }
   ],
   "source": [
    "#loss\n",
    "plt.figure()\n",
    "plt.plot(history.history['loss'])\n",
    "plt.plot(history.history['val_loss'])\n",
    "plt.ylabel('loss')\n",
    "plt.xlabel('epoches')\n",
    "plt.title('Loss')\n",
    "plt.legend(['train', 'validation'])\n",
    "plt.show()"
   ]
  },
  {
   "cell_type": "code",
   "execution_count": 30,
   "id": "2d78f70b",
   "metadata": {},
   "outputs": [],
   "source": [
    "# make prediction\n",
    "train_pred = model.predict(X_train)\n",
    "test_pred = model.predict(X_test)"
   ]
  },
  {
   "cell_type": "code",
   "execution_count": 31,
   "id": "d3515440",
   "metadata": {},
   "outputs": [],
   "source": [
    "# convert back to the original form\n",
    "train_pred = scaler.inverse_transform(train_pred)\n",
    "test_pred = scaler.inverse_transform(test_pred)\n",
    "\n",
    "y_train_org = scaler.inverse_transform(y_train.reshape(-1,1))\n",
    "y_test_org = scaler.inverse_transform(y_test.reshape(-1,1))"
   ]
  },
  {
   "cell_type": "code",
   "execution_count": 32,
   "id": "2f9e659e",
   "metadata": {},
   "outputs": [
    {
     "data": {
      "text/plain": [
       "array([[153.03003],\n",
       "       [153.31882],\n",
       "       [153.68568],\n",
       "       [154.11069],\n",
       "       [154.55151],\n",
       "       [155.00221],\n",
       "       [155.39929],\n",
       "       [155.76942],\n",
       "       [156.27194],\n",
       "       [156.92639]], dtype=float32)"
      ]
     },
     "execution_count": 32,
     "metadata": {},
     "output_type": "execute_result"
    }
   ],
   "source": [
    "train_pred[:10]"
   ]
  },
  {
   "cell_type": "code",
   "execution_count": 33,
   "id": "0deacc2a",
   "metadata": {},
   "outputs": [
    {
     "data": {
      "text/plain": [
       "9.47505819951054"
      ]
     },
     "execution_count": 33,
     "metadata": {},
     "output_type": "execute_result"
    }
   ],
   "source": [
    "# Check the performance metrix\n",
    "from sklearn.metrics import mean_squared_error\n",
    "import math\n",
    "\n",
    "math.sqrt(mean_squared_error(y_train_org, train_pred))"
   ]
  },
  {
   "cell_type": "code",
   "execution_count": 34,
   "id": "d4cc2460",
   "metadata": {},
   "outputs": [
    {
     "data": {
      "text/plain": [
       "4.571111197251655"
      ]
     },
     "execution_count": 34,
     "metadata": {},
     "output_type": "execute_result"
    }
   ],
   "source": [
    "math.sqrt(mean_squared_error(y_test_org, test_pred))"
   ]
  },
  {
   "cell_type": "markdown",
   "id": "3c977708",
   "metadata": {},
   "source": [
    "#### Plotting original data vs Predictions"
   ]
  },
  {
   "cell_type": "code",
   "execution_count": 35,
   "id": "acbc0b37",
   "metadata": {},
   "outputs": [
    {
     "data": {
      "text/plain": [
       "array([[0.12237946],\n",
       "       [0.12180338],\n",
       "       [0.10872887],\n",
       "       ...,\n",
       "       [0.11326237],\n",
       "       [0.11939887],\n",
       "       [0.09933626]])"
      ]
     },
     "execution_count": 35,
     "metadata": {},
     "output_type": "execute_result"
    }
   ],
   "source": [
    "df2"
   ]
  },
  {
   "cell_type": "code",
   "execution_count": 36,
   "id": "6838b5f6",
   "metadata": {},
   "outputs": [
    {
     "name": "stdout",
     "output_type": "stream",
     "text": [
      "717\n"
     ]
    },
    {
     "data": {
      "text/plain": [
       "341"
      ]
     },
     "execution_count": 36,
     "metadata": {},
     "output_type": "execute_result"
    }
   ],
   "source": [
    "print(len(train_pred))\n",
    "len(test_pred)"
   ]
  },
  {
   "cell_type": "code",
   "execution_count": 37,
   "id": "00757b1f",
   "metadata": {},
   "outputs": [
    {
     "data": {
      "image/png": "[encoded data removed]",
      "text/plain": [
       "<Figure size 432x288 with 1 Axes>"
      ]
     },
     "metadata": {
      "needs_background": "light"
     },
     "output_type": "display_data"
    }
   ],
   "source": [
    "num_features = 100 # number of features taken to decide the price of each day\n",
    "\n",
    "# train data prediction\n",
    "plot_train_pred = np.empty_like(df2)\n",
    "plot_train_pred[:,:] = np.nan\n",
    "plot_train_pred[num_features:len(train_pred)+num_features, :] = train_pred\n",
    "\n",
    "# test data prediction\n",
    "plot_test_pred = np.empty_like(df2)\n",
    "plot_test_pred[:,:] = np.nan\n",
    "plot_test_pred[len(train_pred)+(num_features*2) :len(df2)] = test_pred\n",
    "\n",
    "# plot initial data, prediction\n",
    "plt.plot(scaler.inverse_transform(df2)) #blue\n",
    "plt.plot(plot_train_pred) # orange\n",
    "plt.plot(plot_test_pred) # green\n",
    "plt.ylabel('price')\n",
    "plt.title('Initial data VS train, test prediction')\n",
    "plt.show()"
   ]
  },
  {
   "cell_type": "markdown",
   "id": "cafbe262",
   "metadata": {},
   "source": [
    "### Prediction for next 30 days"
   ]
  },
  {
   "cell_type": "code",
   "execution_count": 86,
   "id": "c8c20fb3",
   "metadata": {},
   "outputs": [
    {
     "data": {
      "text/plain": [
       "(441, 1)"
      ]
     },
     "execution_count": 86,
     "metadata": {},
     "output_type": "execute_result"
    }
   ],
   "source": [
    "test_data.shape"
   ]
  },
  {
   "cell_type": "code",
   "execution_count": 87,
   "id": "958a50f1",
   "metadata": {},
   "outputs": [
    {
     "data": {
      "text/plain": [
       "(1, 100)"
      ]
     },
     "execution_count": 87,
     "metadata": {},
     "output_type": "execute_result"
    }
   ],
   "source": [
    "x_input = test_data[341:].reshape(1, -1)\n",
    "x_input.shape"
   ]
  },
  {
   "cell_type": "code",
   "execution_count": 88,
   "id": "dd0b8a19",
   "metadata": {
    "scrolled": true
   },
   "outputs": [],
   "source": [
    "temp_input = list(x_input)\n",
    "temp_input = temp_input[0].tolist()"
   ]
  },
  {
   "cell_type": "code",
   "execution_count": 89,
   "id": "d5735392",
   "metadata": {},
   "outputs": [
    {
     "data": {
      "text/plain": [
       "[0.16105197244834057,\n",
       " 0.1575704445835942,\n",
       " 0.1656856606136506,\n",
       " 0.1723231058234188,\n",
       " 0.17392611145898557,\n",
       " 0.18407013149655604,\n",
       " 0.18146524733876013,\n",
       " 0.1816906700062617,\n",
       " 0.1787351283656856,\n",
       " 0.17715716969317463]"
      ]
     },
     "execution_count": 89,
     "metadata": {},
     "output_type": "execute_result"
    }
   ],
   "source": [
    "temp_input[:10]"
   ]
  },
  {
   "cell_type": "code",
   "execution_count": 90,
   "id": "bb4d2b10",
   "metadata": {},
   "outputs": [],
   "source": [
    "# predict for next 30 days\n",
    "output = []\n",
    "steps = 100\n",
    "\n",
    "i = 0\n",
    "while(i < 30):\n",
    "    if(len(temp_input)>100):\n",
    "        x_input = np.array(temp_input[1:])\n",
    "        #print(\"{} day input {}\".format(i,x_input))\n",
    "        x_input=x_input.reshape(1,-1)\n",
    "        x_input = x_input.reshape((1, steps, 1))\n",
    "        yhat = model.predict(x_input)\n",
    "        #print(\"{} day output {}\".format(i,yhat))\n",
    "        temp_input.extend(yhat[0].tolist())\n",
    "        temp_input=temp_input[1:]\n",
    "        output.extend(yhat.tolist())\n",
    "        i=i+1\n",
    "    else:\n",
    "        x_input = x_input.reshape(1, steps, 1)\n",
    "        yhat = model.predict(x_input)\n",
    "        #print(yhat[0])\n",
    "        temp_input.extend(yhat[0].tolist())\n",
    "        #print(len(temp_input))\n",
    "        output.extend(yhat.tolist())\n",
    "        i=i+1"
   ]
  },
  {
   "cell_type": "code",
   "execution_count": 91,
   "id": "6020a616",
   "metadata": {},
   "outputs": [
    {
     "data": {
      "text/plain": [
       "[[0.12424363940954208],\n",
       " [0.12142340838909149],\n",
       " [0.11943762749433517],\n",
       " [0.11822732537984848],\n",
       " [0.11758069694042206],\n",
       " [0.11728901416063309],\n",
       " [0.11719735711812973],\n",
       " [0.11720752716064453],\n",
       " [0.11726405471563339],\n",
       " [0.11733866482973099],\n",
       " [0.11741811037063599],\n",
       " [0.11749652028083801],\n",
       " [0.11757099628448486],\n",
       " [0.11763984709978104],\n",
       " [0.11770164221525192],\n",
       " [0.11775511503219604],\n",
       " [0.11779928207397461],\n",
       " [0.11783336102962494],\n",
       " [0.11785692721605301],\n",
       " [0.11786983162164688],\n",
       " [0.11787232011556625],\n",
       " [0.11786478757858276],\n",
       " [0.11784778535366058],\n",
       " [0.11782211065292358],\n",
       " [0.11778853088617325],\n",
       " [0.1177479475736618],\n",
       " [0.11770118027925491],\n",
       " [0.1176491305232048],\n",
       " [0.11759261041879654],\n",
       " [0.11753246933221817]]"
      ]
     },
     "execution_count": 91,
     "metadata": {},
     "output_type": "execute_result"
    }
   ],
   "source": [
    "output"
   ]
  },
  {
   "cell_type": "code",
   "execution_count": 92,
   "id": "770cadea",
   "metadata": {},
   "outputs": [
    {
     "name": "stdout",
     "output_type": "stream",
     "text": [
      "1258\n",
      "100\n",
      "30\n"
     ]
    }
   ],
   "source": [
    "# plot 30 days prediction\n",
    "print(len(df2))\n",
    "\n",
    "previous_100_days = np.arange(1,101)\n",
    "next_30_days = np.arange(101,131)\n",
    "print(len(previous_100_days))\n",
    "print(len(next_30_days))"
   ]
  },
  {
   "cell_type": "code",
   "execution_count": 93,
   "id": "0c833754",
   "metadata": {},
   "outputs": [
    {
     "data": {
      "image/png": "[encoded data removed]",
      "text/plain": [
       "<Figure size 432x288 with 1 Axes>"
      ]
     },
     "metadata": {
      "needs_background": "light"
     },
     "output_type": "display_data"
    }
   ],
   "source": [
    "# 30 days prediction and, previous 100 days before the prediction\n",
    "plt.plot(previous_100_days, scaler.inverse_transform(df2[1158:])) # blue\n",
    "plt.plot(next_30_days, scaler.inverse_transform(output)) # orange\n",
    "plt.show()"
   ]
  },
  {
   "cell_type": "code",
   "execution_count": 94,
   "id": "cef40dac",
   "metadata": {},
   "outputs": [
    {
     "data": {
      "image/png": "[encoded data removed]",
      "text/plain": [
       "<Figure size 432x288 with 1 Axes>"
      ]
     },
     "metadata": {
      "needs_background": "light"
     },
     "output_type": "display_data"
    }
   ],
   "source": [
    "# including 30 days (previous 100 + predicted 30)\n",
    "df_included_30_days = df2.tolist()\n",
    "df_included_30_days.extend(output) # add 30 days\n",
    "\n",
    "\n",
    "plt.plot(scaler.inverse_transform(df_included_30_days[1158:]))\n",
    "plt.show()"
   ]
  },
  {
   "cell_type": "code",
   "execution_count": 95,
   "id": "a22c1df4",
   "metadata": {},
   "outputs": [
    {
     "data": {
      "image/png": "[encoded data removed]",
      "text/plain": [
       "<Figure size 432x288 with 1 Axes>"
      ]
     },
     "metadata": {
      "needs_background": "light"
     },
     "output_type": "display_data"
    }
   ],
   "source": [
    "# all data\n",
    "plt.plot(scaler.inverse_transform(df_included_30_days))\n",
    "plt.show()"
   ]
  },
  {
   "cell_type": "code",
   "execution_count": null,
   "id": "83c58af6",
   "metadata": {},
   "outputs": [],
   "source": []
  }
 ],
 "metadata": {
  "kernelspec": {
   "display_name": "Python 3",
   "language": "python",
   "name": "python3"
  },
  "language_info": {
   "codemirror_mode": {
    "name": "ipython",
    "version": 3
   },
   "file_extension": ".py",
   "mimetype": "text/x-python",
   "name": "python",
   "nbconvert_exporter": "python",
   "pygments_lexer": "ipython3",
   "version": "3.8.8"
  }
 },
 "nbformat": 4,
 "nbformat_minor": 5
}
